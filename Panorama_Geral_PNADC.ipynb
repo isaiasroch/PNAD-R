{
  "cells": [
    {
      "cell_type": "markdown",
      "metadata": {
        "id": "4EaAmg_1QfJj"
      },
      "source": [
        "# Descrição\n",
        "\n",
        "Este notebook tem como objetivo obter estatísticas referentes ao perfil da população na força de trabalho, como seu rendimento, distribuição por raça e escolaridade, e analisar como esse público se comportou ao longo do tempo.\n",
        "\n",
        "Autor: Isaías Rocha;\n",
        "Linkedin: https://www.linkedin.com/in/isaias-santos-7ab972196/"
      ]
    },
    {
      "cell_type": "code",
      "execution_count": null,
      "metadata": {
        "colab": {
          "base_uri": "https://localhost:8080/",
          "height": 0
        },
        "id": "A1PyY9uUfM-B",
        "outputId": "03de4f46-99da-4b5a-a42a-ab077e687751"
      },
      "outputs": [
        {
          "output_type": "stream",
          "name": "stderr",
          "text": [
            "Installing package into ‘/usr/local/lib/R/site-library’\n",
            "(as ‘lib’ is unspecified)\n",
            "\n",
            "also installing the dependencies ‘bitops’, ‘minqa’, ‘numDeriv’, ‘mitools’, ‘Rcpp’, ‘RcppArmadillo’, ‘projmgr’, ‘RCurl’, ‘survey’, ‘timeDate’\n",
            "\n",
            "\n"
          ]
        }
      ],
      "source": [
        "# Instalação dos pacotes\n",
        "install.packages(\"PNADcIBGE\")\n",
        "install.packages(\"survey\")\n",
        "install.packages(\"tidyverse\")\n",
        "install.packages(\"dplyr\")\n",
        "install.packages(\"tibble\")\n",
        "install.packages(\"googledrive\")\n",
        "install.packages(\"readxl\")\n",
        "install.packages(\"rio\")"
      ]
    },
    {
      "cell_type": "code",
      "execution_count": null,
      "metadata": {
        "id": "n12PTkzXepOc"
      },
      "outputs": [],
      "source": [
        "# Carregando os pacotes\n",
        "library(PNADcIBGE)\n",
        "library(survey)\n",
        "library(tidyverse)\n",
        "library(dplyr)\n",
        "library(tibble)\n",
        "library(googledrive)\n",
        "library(readxl)\n",
        "\n",
        "rm(list = ls(all.names = TRUE)) #will clear all objects includes hidden objects.\n",
        "gc()"
      ]
    },
    {
      "cell_type": "markdown",
      "metadata": {
        "id": "lGw5llimgNcA"
      },
      "source": [
        "# Baixando Micro dados da PNADc\n",
        "\n",
        "em  *vars* seleciono apenas as variáveis de interesse (Que respondam nossa pergunta)"
      ]
    },
    {
      "cell_type": "code",
      "execution_count": null,
      "metadata": {
        "id": "CEV1j2tngFQL"
      },
      "outputs": [],
      "source": [
        "dadosPNADc <- get_pnadc(year=2023,\n",
        "                        quarter=4,\n",
        "                        vars=c(\"UF\", \"V2007\", \"VD4007\", \"VD4001\", \"V2009\",\n",
        "                               \"V2010\", \"VD4020\", \"V4013\", \"VD3004\"))\n",
        "\n",
        "# apenas pessoas na força de trabalho\n",
        "\n",
        "dadosPNADc <- subset(dadosPNADc, VD4001 == \"Pessoas na força de trabalho\")\n",
        "dadosPNADc <- subset(dadosPNADc, V2009 >= \"14\")"
      ]
    },
    {
      "cell_type": "markdown",
      "source": [
        "Média do Rendimento Das Pessoas Na Força de Trabalho"
      ],
      "metadata": {
        "id": "9VPOFpD7AUec"
      }
    },
    {
      "cell_type": "code",
      "execution_count": null,
      "metadata": {
        "id": "AxsMm0Otry4P"
      },
      "outputs": [],
      "source": [
        "mediaRendaUF = svyby(~VD4020, ~UF, dadosPNADc, svymean, na.rm=T)\n",
        "rio::export(mediaRendaUF, file = \"MédiaRendimentoDasPessoasNaForçadeTrabalho.xlsx\")\n",
        "mediaRendaUF"
      ]
    },
    {
      "cell_type": "markdown",
      "metadata": {
        "id": "RKHc6zg_g7vf"
      },
      "source": [
        "## Raça\n",
        "\n",
        "V2010\t10\tCor ou raça\n",
        "1\tBranca\n",
        "2\tPreta\n",
        "3\tAmarela\n",
        "4\tParda\n",
        "5\tIndígena\n",
        "9\tIgnorado\n"
      ]
    },
    {
      "cell_type": "markdown",
      "metadata": {
        "id": "Mo5KXKxnmIDo"
      },
      "source": []
    },
    {
      "cell_type": "code",
      "execution_count": null,
      "metadata": {
        "id": "Rt3ptkotg5OE"
      },
      "outputs": [],
      "source": [
        "totalracaUF <- (dadosPNADct\n",
        "totalracaUF <- svytotal(x=~interaction(V2010, UF), design=totalracaUF, na.rm=TRUE) %>% as.data.frame()\n",
        "# Transformar o índice em campo\n",
        "totalracaUF <- totalracaUF %>%\n",
        "  rownames_to_column(var = \"ID\")\n",
        "\n",
        "totalracaUF$ID <- gsub(\"interaction\\\\(V2010, UF\\\\)\", \"\", totalracaUF$ID)\n",
        "\n",
        "# Separar o campo inicial por \".\"\n",
        "totalracaUF <- separate(totalracaUF, col = \"ID\", into = c(\"Raça\", \"UF\"), sep = \"\\\\.\") %>% select(-SE)\n",
        "\n",
        "totalracaUF <- totalracaUF %>%\n",
        "  pivot_wider(names_from = `Raça`, values_from = total)\n",
        "\n",
        "totalracaUF$Total <- totalracaUF$Branca+totalracaUF$Preta+\n",
        "  totalracaUF$Amarela+totalracaUF$Parda+totalracaUF$Indígena+totalracaUF$Ignorado\n",
        "\n",
        "totalracaUF$PartPreto <- totalracaUF$Preta/(totalracaUF$Total)*100\n",
        "totalracaUF$PartPreto <- totalracaUF$PartPreto %>%\n",
        "  round(digits = 2)\n",
        "\n",
        "\n",
        "totalracaUF$PartParda <- totalracaUF$Parda/(totalracaUF$Total)*100\n",
        "totalracaUF$PartParda <- totalracaUF$PartParda %>%\n",
        "  round(digits = 2)\n",
        "\n",
        "\n",
        "totalracaUF$PartIndigena <- totalracaUF$Indígena/(totalracaUF$Total)*100\n",
        "totalracaUF$PartIndigena <- totalracaUF$PartIndigena %>%\n",
        "  round(digits = 2)\n",
        "\n",
        "\n",
        "totalracaUF\n",
        "\n",
        "rio::export(totalracaUF, file = \"EmpreendedorasPorRaça.xlsx\")"
      ]
    },
    {
      "cell_type": "markdown",
      "metadata": {
        "id": "RXiQ8fYvgGul"
      },
      "source": [
        "## Brasil"
      ]
    },
    {
      "cell_type": "markdown",
      "metadata": {
        "id": "nikUGocTvR4S"
      },
      "source": [
        "# VD3004 – Nível de instrução mais elevado alcançado (pessoas de 5 anos ou mais de idade)"
      ]
    },
    {
      "cell_type": "code",
      "source": [
        "# Apenas MA\n",
        "MA <- subset(dadosPNADct, UF == \"Maranhão\")\n",
        "\n",
        "MA <- svytotal(x=~interaction(V2007, VD3004), design=MA, na.rm=TRUE) %>% as.data.frame()\n",
        "\n",
        "MA <- MA %>%\n",
        "  rownames_to_column(var = \"ID\") %>% select(-c(SE))\n"
      ],
      "metadata": {
        "id": "H5M7gsw_1RGb"
      },
      "execution_count": null,
      "outputs": []
    },
    {
      "cell_type": "code",
      "source": [
        "MA\n",
        "rio::export(MA, file = \"MA - Escolaridade_PPP.xlsx\")"
      ],
      "metadata": {
        "id": "igkt58SMEZxC"
      },
      "execution_count": null,
      "outputs": []
    }
  ],
  "metadata": {
    "colab": {
      "provenance": []
    },
    "kernelspec": {
      "display_name": "R",
      "name": "ir"
    },
    "language_info": {
      "name": "R"
    }
  },
  "nbformat": 4,
  "nbformat_minor": 0
}